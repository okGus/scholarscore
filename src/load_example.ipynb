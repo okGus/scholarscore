{
 "cells": [
  {
   "cell_type": "code",
   "execution_count": 1,
   "metadata": {},
   "outputs": [
    {
     "name": "stderr",
     "output_type": "stream",
     "text": [
      "c:\\Users\\dsing\\anaconda3\\envs\\rag\\lib\\site-packages\\pinecone\\data\\index.py:1: TqdmWarning: IProgress not found. Please update jupyter and ipywidgets. See https://ipywidgets.readthedocs.io/en/stable/user_install.html\n",
      "  from tqdm.autonotebook import tqdm\n"
     ]
    }
   ],
   "source": [
    "from dotenv import load_dotenv\n",
    "load_dotenv()\n",
    "import os\n",
    "from openai import OpenAI\n",
    "from pinecone import Pinecone, ServerlessSpec"
   ]
  },
  {
   "cell_type": "code",
   "execution_count": 3,
   "metadata": {},
   "outputs": [],
   "source": [
    "pinecone_ = Pinecone(api_key=os.getenv('PINECONE_API_KEY'))\n",
    "index_name = 'rag'\n",
    "namespace = ''\n",
    "pinecone_.create_index(\n",
    "    name=index_name,\n",
    "    dimension=1536,     # This is openAI embeddings number\n",
    "    metric='cosine',\n",
    "    spec=ServerlessSpec(cloud='aws', region='us-east-1')\n",
    ")"
   ]
  },
  {
   "cell_type": "code",
   "execution_count": 4,
   "metadata": {},
   "outputs": [
    {
     "data": {
      "text/plain": [
       "[{'professor': 'Dr. Emily Carter',\n",
       "  'subject': 'Physics',\n",
       "  'stars': 5,\n",
       "  'review': 'Amazing professor! She explains complex concepts in a very simple way and is always available for questions.'},\n",
       " {'professor': 'Dr. John Smith',\n",
       "  'subject': 'History',\n",
       "  'stars': 3,\n",
       "  'review': 'His lectures are informative but can be a bit dry. Be prepared to read a lot.'},\n",
       " {'professor': 'Dr. Samantha Lee',\n",
       "  'subject': 'Mathematics',\n",
       "  'stars': 4,\n",
       "  'review': 'Very knowledgeable and patient. Sometimes goes too fast, but she is willing to help after class.'},\n",
       " {'professor': 'Dr. Robert Jones',\n",
       "  'subject': 'Chemistry',\n",
       "  'stars': 2,\n",
       "  'review': 'Difficult to follow his lectures, and his exams are extremely tough. Not the best for beginners.'},\n",
       " {'professor': 'Dr. Angela Martinez',\n",
       "  'subject': 'Biology',\n",
       "  'stars': 5,\n",
       "  'review': 'One of the best professors I’ve ever had! She makes the subject fascinating and engages everyone in class.'},\n",
       " {'professor': 'Dr. Mark Davis',\n",
       "  'subject': 'Philosophy',\n",
       "  'stars': 3,\n",
       "  'review': 'Interesting lectures, but his grading is inconsistent. Be sure to participate in discussions.'},\n",
       " {'professor': 'Dr. Linda Wilson',\n",
       "  'subject': 'Psychology',\n",
       "  'stars': 4,\n",
       "  'review': 'Her classes are insightful, and she genuinely cares about her students. Sometimes her assignments are unclear.'},\n",
       " {'professor': 'Dr. James Brown',\n",
       "  'subject': 'Computer Science',\n",
       "  'stars': 1,\n",
       "  'review': 'Terrible professor. He is unorganized and unhelpful. Avoid if you can.'},\n",
       " {'professor': 'Dr. Karen Thompson',\n",
       "  'subject': 'English Literature',\n",
       "  'stars': 5,\n",
       "  'review': 'She brings the literature to life! Her passion for the subject is contagious.'},\n",
       " {'professor': 'Dr. Michael Miller',\n",
       "  'subject': 'Economics',\n",
       "  'stars': 2,\n",
       "  'review': 'Difficult to understand, and his exams are much harder than what is taught in class.'},\n",
       " {'professor': 'Dr. Susan White',\n",
       "  'subject': 'Political Science',\n",
       "  'stars': 4,\n",
       "  'review': 'Very knowledgeable and encourages critical thinking. However, her lectures can be dense.'},\n",
       " {'professor': 'Dr. Richard Taylor',\n",
       "  'subject': 'Sociology',\n",
       "  'stars': 3,\n",
       "  'review': 'He has a lot of knowledge but tends to go off-topic. Class discussions are interesting though.'},\n",
       " {'professor': 'Dr. Jessica Moore',\n",
       "  'subject': 'Anthropology',\n",
       "  'stars': 5,\n",
       "  'review': 'Fantastic professor! Her fieldwork stories make the class incredibly engaging.'},\n",
       " {'professor': 'Dr. Charles Harris',\n",
       "  'subject': 'Engineering',\n",
       "  'stars': 2,\n",
       "  'review': 'His lectures are boring, and he doesn’t explain things well. Labs are confusing.'},\n",
       " {'professor': 'Dr. Patricia Evans',\n",
       "  'subject': 'Nursing',\n",
       "  'stars': 4,\n",
       "  'review': 'Very knowledgeable and cares about student success, but her exams are challenging.'},\n",
       " {'professor': 'Dr. Matthew Nelson',\n",
       "  'subject': 'Law',\n",
       "  'stars': 5,\n",
       "  'review': 'Incredible professor. His cases and examples are very relevant and engaging.'},\n",
       " {'professor': 'Dr. Lisa Clark',\n",
       "  'subject': 'Environmental Science',\n",
       "  'stars': 3,\n",
       "  'review': 'Passionate about the subject, but her lectures can be long and repetitive.'},\n",
       " {'professor': 'Dr. Steven Lewis',\n",
       "  'subject': 'Statistics',\n",
       "  'stars': 4,\n",
       "  'review': 'His lectures are clear, and he is approachable. However, his tests are tough.'},\n",
       " {'professor': 'Dr. Nancy Walker',\n",
       "  'subject': 'Art History',\n",
       "  'stars': 5,\n",
       "  'review': 'Her enthusiasm for art is contagious. Every lecture is a joy to attend.'},\n",
       " {'professor': 'Dr. Paul Adams',\n",
       "  'subject': 'Marketing',\n",
       "  'stars': 3,\n",
       "  'review': 'His lectures are practical but can be monotonous. Group projects are key to doing well.'}]"
      ]
     },
     "execution_count": 4,
     "metadata": {},
     "output_type": "execute_result"
    }
   ],
   "source": [
    "import json\n",
    "data = json.load(open('reviews_example.json'))\n",
    "data['reviews']"
   ]
  },
  {
   "cell_type": "code",
   "execution_count": 5,
   "metadata": {},
   "outputs": [],
   "source": [
    "process_data = []\n",
    "client = OpenAI()\n",
    "\n",
    "for review in data['reviews']:\n",
    "    response = client.embeddings.create(\n",
    "        input=review['review'],\n",
    "        model='text-embedding-3-small',\n",
    "    )\n",
    "    embedding = response.data[0].embedding\n",
    "    process_data.append({\n",
    "        'values': embedding,\n",
    "        'id': review['professor'],\n",
    "        'metadata': {\n",
    "            'review': review['review'],\n",
    "            'subject': review['subject'],\n",
    "            'stars': review['stars']\n",
    "        }\n",
    "    })"
   ]
  },
  {
   "cell_type": "code",
   "execution_count": 7,
   "metadata": {},
   "outputs": [
    {
     "data": {
      "text/plain": [
       "{'upserted_count': 20}"
      ]
     },
     "execution_count": 7,
     "metadata": {},
     "output_type": "execute_result"
    }
   ],
   "source": [
    "index = pinecone_.Index('rag')\n",
    "index.upsert(\n",
    "    vectors=process_data,\n",
    "    namespace=namespace\n",
    ")"
   ]
  },
  {
   "cell_type": "code",
   "execution_count": 8,
   "metadata": {},
   "outputs": [
    {
     "data": {
      "text/plain": [
       "{'dimension': 1536,\n",
       " 'index_fullness': 0.0,\n",
       " 'namespaces': {'': {'vector_count': 20}},\n",
       " 'total_vector_count': 20}"
      ]
     },
     "execution_count": 8,
     "metadata": {},
     "output_type": "execute_result"
    }
   ],
   "source": [
    "index.describe_index_stats()"
   ]
  },
  {
   "cell_type": "code",
   "execution_count": null,
   "metadata": {},
   "outputs": [],
   "source": []
  }
 ],
 "metadata": {
  "kernelspec": {
   "display_name": "ragenv",
   "language": "python",
   "name": "python3"
  },
  "language_info": {
   "codemirror_mode": {
    "name": "ipython",
    "version": 3
   },
   "file_extension": ".py",
   "mimetype": "text/x-python",
   "name": "python",
   "nbconvert_exporter": "python",
   "pygments_lexer": "ipython3",
   "version": "3.10.4"
  }
 },
 "nbformat": 4,
 "nbformat_minor": 2
}
